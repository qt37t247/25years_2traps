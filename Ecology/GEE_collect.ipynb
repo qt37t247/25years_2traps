{
 "cells": [
  {
   "cell_type": "code",
   "execution_count": 1,
   "id": "4100b414-b17b-4a05-8102-3b7623f2da60",
   "metadata": {},
   "outputs": [],
   "source": [
    "import ee\n",
    "import geemap\n",
    "geemap.ee_initialize()"
   ]
  },
  {
   "cell_type": "code",
   "execution_count": 2,
   "id": "6ce5938e-013f-4b91-8957-d3499e9906d7",
   "metadata": {},
   "outputs": [
    {
     "data": {
      "text/html": [
       "\n",
       "            <style>\n",
       "                .geemap-dark {\n",
       "                    --jp-widgets-color: white;\n",
       "                    --jp-widgets-label-color: white;\n",
       "                    --jp-ui-font-color1: white;\n",
       "                    --jp-layout-color2: #454545;\n",
       "                    background-color: #383838;\n",
       "                }\n",
       "\n",
       "                .geemap-dark .jupyter-button {\n",
       "                    --jp-layout-color3: #383838;\n",
       "                }\n",
       "\n",
       "                .geemap-colab {\n",
       "                    background-color: var(--colab-primary-surface-color, white);\n",
       "                }\n",
       "\n",
       "                .geemap-colab .jupyter-button {\n",
       "                    --jp-layout-color3: var(--colab-primary-surface-color, white);\n",
       "                }\n",
       "            </style>\n",
       "            "
      ],
      "text/plain": [
       "<IPython.core.display.HTML object>"
      ]
     },
     "metadata": {},
     "output_type": "display_data"
    }
   ],
   "source": [
    "import csv\n",
    "import numpy as np\n",
    "import pandas as pd\n",
    "import os"
   ]
  },
  {
   "cell_type": "code",
   "execution_count": 3,
   "id": "49247ba4-f0d2-4d43-8254-5ef4660864d5",
   "metadata": {},
   "outputs": [
    {
     "data": {
      "text/html": [
       "\n",
       "            <style>\n",
       "                .geemap-dark {\n",
       "                    --jp-widgets-color: white;\n",
       "                    --jp-widgets-label-color: white;\n",
       "                    --jp-ui-font-color1: white;\n",
       "                    --jp-layout-color2: #454545;\n",
       "                    background-color: #383838;\n",
       "                }\n",
       "\n",
       "                .geemap-dark .jupyter-button {\n",
       "                    --jp-layout-color3: #383838;\n",
       "                }\n",
       "\n",
       "                .geemap-colab {\n",
       "                    background-color: var(--colab-primary-surface-color, white);\n",
       "                }\n",
       "\n",
       "                .geemap-colab .jupyter-button {\n",
       "                    --jp-layout-color3: var(--colab-primary-surface-color, white);\n",
       "                }\n",
       "            </style>\n",
       "            "
      ],
      "text/plain": [
       "<IPython.core.display.HTML object>"
      ]
     },
     "metadata": {},
     "output_type": "display_data"
    }
   ],
   "source": [
    "work_dir = os.path.expanduser(\"C:\\\\Users\\\\tangb\\\\Desktop\\\\Two_traps\\\\geo\\\\GEE\")\n",
    "in_shp = os.path.join(work_dir, \"Sites.shp\")\n",
    "in_fc = geemap.shp_to_ee(\"Sites.shp\")"
   ]
  },
  {
   "cell_type": "code",
   "execution_count": 4,
   "id": "66aeb685-e349-4865-80bd-875bf1acd6b2",
   "metadata": {},
   "outputs": [
    {
     "data": {
      "text/html": [
       "\n",
       "            <style>\n",
       "                .geemap-dark {\n",
       "                    --jp-widgets-color: white;\n",
       "                    --jp-widgets-label-color: white;\n",
       "                    --jp-ui-font-color1: white;\n",
       "                    --jp-layout-color2: #454545;\n",
       "                    background-color: #383838;\n",
       "                }\n",
       "\n",
       "                .geemap-dark .jupyter-button {\n",
       "                    --jp-layout-color3: #383838;\n",
       "                }\n",
       "\n",
       "                .geemap-colab {\n",
       "                    background-color: var(--colab-primary-surface-color, white);\n",
       "                }\n",
       "\n",
       "                .geemap-colab .jupyter-button {\n",
       "                    --jp-layout-color3: var(--colab-primary-surface-color, white);\n",
       "                }\n",
       "            </style>\n",
       "            "
      ],
      "text/plain": [
       "<IPython.core.display.HTML object>"
      ]
     },
     "metadata": {},
     "output_type": "display_data"
    },
    {
     "name": "stdout",
     "output_type": "stream",
     "text": [
      "Generating URL ...\n",
      "Downloading data from https://earthengine.googleapis.com/v1/projects/614189114417/tables/5e558f3fb81a86e79c0c2435c5a1268b-9f68214fea34fbd3263dfbbefc5e2ca2:getFeatures\n",
      "Please wait ...\n",
      "Data downloaded to C:\\Users\\tangb\\Desktop\\Two_traps\\geo\\GEE\\VIIRS.csv\n",
      "Generating URL ...\n",
      "Downloading data from https://earthengine.googleapis.com/v1/projects/614189114417/tables/7c333c163e3f3f8b71cbcb201412ed6a-5c8ab1eaad3fc8927d2b11ce08ea9eaf:getFeatures\n",
      "Please wait ...\n",
      "Data downloaded to C:\\Users\\tangb\\Desktop\\Two_traps\\geo\\GEE\\DMSP.csv\n"
     ]
    }
   ],
   "source": [
    "VIIRS = ee.ImageCollection('NOAA/VIIRS/DNB/MONTHLY_V1/VCMSLCFG').select('avg_rad').filterDate('1997-01-01', '2024-12-31')\n",
    "VIIRSi = VIIRS.toBands()\n",
    "out_csv = os.path.join(work_dir, \"VIIRS.csv\")\n",
    "geemap.extract_values_to_points(in_fc, VIIRSi, out_csv)\n",
    "\n",
    "DMSP = ee.ImageCollection('BNU/FGS/CCNL/v1').select('b1').filterDate('1997-01-01', '2024-12-31')\n",
    "DMSPi = DMSP.toBands()\n",
    "out_csv = os.path.join(work_dir, \"DMSP.csv\")\n",
    "geemap.extract_values_to_points(in_fc, DMSPi, out_csv)"
   ]
  },
  {
   "cell_type": "code",
   "execution_count": 4,
   "id": "ad33fc68-4664-47a9-8ade-a069ebb9bc3c",
   "metadata": {},
   "outputs": [
    {
     "data": {
      "text/html": [
       "\n",
       "            <style>\n",
       "                .geemap-dark {\n",
       "                    --jp-widgets-color: white;\n",
       "                    --jp-widgets-label-color: white;\n",
       "                    --jp-ui-font-color1: white;\n",
       "                    --jp-layout-color2: #454545;\n",
       "                    background-color: #383838;\n",
       "                }\n",
       "\n",
       "                .geemap-dark .jupyter-button {\n",
       "                    --jp-layout-color3: #383838;\n",
       "                }\n",
       "\n",
       "                .geemap-colab {\n",
       "                    background-color: var(--colab-primary-surface-color, white);\n",
       "                }\n",
       "\n",
       "                .geemap-colab .jupyter-button {\n",
       "                    --jp-layout-color3: var(--colab-primary-surface-color, white);\n",
       "                }\n",
       "            </style>\n",
       "            "
      ],
      "text/plain": [
       "<IPython.core.display.HTML object>"
      ]
     },
     "metadata": {},
     "output_type": "display_data"
    },
    {
     "name": "stdout",
     "output_type": "stream",
     "text": [
      "Generating URL ...\n",
      "Downloading data from https://earthengine.googleapis.com/v1/projects/614189114417/tables/8b51339e550fb4736c16c4c761da88b3-f0b70e383a35ad08049ace9665e928c8:getFeatures\n",
      "Please wait ...\n",
      "Data downloaded to C:\\Users\\tangb\\Desktop\\Two_traps\\geo\\GEE\\precipitation.csv\n",
      "Generating URL ...\n",
      "Downloading data from https://earthengine.googleapis.com/v1/projects/614189114417/tables/ddaa4b4bf9e9d2ba15b4f1515bb87637-5e5d1d85d3d9d0c0c672c962c3f7534f:getFeatures\n",
      "Please wait ...\n",
      "Data downloaded to C:\\Users\\tangb\\Desktop\\Two_traps\\geo\\GEE\\temp_mean.csv\n",
      "Generating URL ...\n",
      "Downloading data from https://earthengine.googleapis.com/v1/projects/614189114417/tables/f2fb945f835706f4b0a25018ae334c5a-e669898806bea8b4c66c2f80dc2d7e4b:getFeatures\n",
      "Please wait ...\n",
      "Data downloaded to C:\\Users\\tangb\\Desktop\\Two_traps\\geo\\GEE\\temp_min.csv\n",
      "Generating URL ...\n",
      "Downloading data from https://earthengine.googleapis.com/v1/projects/614189114417/tables/1ff5b88b986641947bca05f692e78650-99befd9eec75a3a0ee21f2b793e22249:getFeatures\n",
      "Please wait ...\n",
      "Data downloaded to C:\\Users\\tangb\\Desktop\\Two_traps\\geo\\GEE\\temp_max.csv\n",
      "Generating URL ...\n",
      "Downloading data from https://earthengine.googleapis.com/v1/projects/614189114417/tables/953ff22575cfa7f713c022654c786793-11661cf7b088ad04568e38a4234cf632:getFeatures\n",
      "Please wait ...\n",
      "Data downloaded to C:\\Users\\tangb\\Desktop\\Two_traps\\geo\\GEE\\pressure.csv\n",
      "Generating URL ...\n",
      "Downloading data from https://earthengine.googleapis.com/v1/projects/614189114417/tables/f665c483a5c83e2ab58cb8166d91a00b-551639fced1483a676929767205c37df:getFeatures\n",
      "Please wait ...\n",
      "Data downloaded to C:\\Users\\tangb\\Desktop\\Two_traps\\geo\\GEE\\windspeed.csv\n",
      "Generating URL ...\n",
      "Downloading data from https://earthengine.googleapis.com/v1/projects/614189114417/tables/58316968469ecf97a3cb49bd47b273f5-3d48de8547f5ac723142b94ad5cb7c31:getFeatures\n",
      "Please wait ...\n",
      "Data downloaded to C:\\Users\\tangb\\Desktop\\Two_traps\\geo\\GEE\\radiation.csv\n",
      "Generating URL ...\n",
      "Downloading data from https://earthengine.googleapis.com/v1/projects/614189114417/tables/d1351578d1020277da32cec743f6703b-d94b92aace35ab7831bd5a0a135ad1d5:getFeatures\n",
      "Please wait ...\n",
      "Data downloaded to C:\\Users\\tangb\\Desktop\\Two_traps\\geo\\GEE\\drought.csv\n"
     ]
    }
   ],
   "source": [
    "# Climate data starts here\n",
    "prismclim = ee.ImageCollection('OREGONSTATE/PRISM/AN81m').filter(\n",
    "    ee.Filter.date('1997-01-01', '2024-12-31')\n",
    ")\n",
    "\n",
    "terraclim = ee.ImageCollection('IDAHO_EPSCOR/TERRACLIMATE').filter(\n",
    "    ee.Filter.date('1997-01-01', '2024-12-31')\n",
    ")\n",
    "\n",
    "precipitation = prismclim.select('ppt').toBands()\n",
    "temp_mean = prismclim.select('tmean').toBands()\n",
    "temp_min = prismclim.select('tmin').toBands()\n",
    "temp_max = prismclim.select('tmax').toBands()\n",
    "pressure = terraclim.select('vap').toBands()\n",
    "windspeed = terraclim.select('vs').toBands()\n",
    "radiation = terraclim.select('srad').toBands()\n",
    "drought = terraclim.select('pdsi').toBands()\n",
    "\n",
    "out_csv = os.path.join(work_dir, \"precipitation.csv\")\n",
    "geemap.extract_values_to_points(in_fc, precipitation, out_csv)\n",
    "out_csv = os.path.join(work_dir, \"temp_mean.csv\")\n",
    "geemap.extract_values_to_points(in_fc, temp_mean, out_csv)\n",
    "out_csv = os.path.join(work_dir, \"temp_min.csv\")\n",
    "geemap.extract_values_to_points(in_fc, temp_min, out_csv)\n",
    "out_csv = os.path.join(work_dir, \"temp_max.csv\")\n",
    "geemap.extract_values_to_points(in_fc, temp_max, out_csv)\n",
    "out_csv = os.path.join(work_dir, \"pressure.csv\")\n",
    "geemap.extract_values_to_points(in_fc, pressure, out_csv)\n",
    "out_csv = os.path.join(work_dir, \"windspeed.csv\")\n",
    "geemap.extract_values_to_points(in_fc, windspeed, out_csv)\n",
    "out_csv = os.path.join(work_dir, \"radiation.csv\")\n",
    "geemap.extract_values_to_points(in_fc, radiation, out_csv)\n",
    "out_csv = os.path.join(work_dir, \"drought.csv\")\n",
    "geemap.extract_values_to_points(in_fc, drought, out_csv)\n"
   ]
  },
  {
   "cell_type": "code",
   "execution_count": 5,
   "id": "d32c096f-566e-474b-9fb6-0e3273f67b31",
   "metadata": {},
   "outputs": [
    {
     "data": {
      "text/html": [
       "\n",
       "            <style>\n",
       "                .geemap-dark {\n",
       "                    --jp-widgets-color: white;\n",
       "                    --jp-widgets-label-color: white;\n",
       "                    --jp-ui-font-color1: white;\n",
       "                    --jp-layout-color2: #454545;\n",
       "                    background-color: #383838;\n",
       "                }\n",
       "\n",
       "                .geemap-dark .jupyter-button {\n",
       "                    --jp-layout-color3: #383838;\n",
       "                }\n",
       "\n",
       "                .geemap-colab {\n",
       "                    background-color: var(--colab-primary-surface-color, white);\n",
       "                }\n",
       "\n",
       "                .geemap-colab .jupyter-button {\n",
       "                    --jp-layout-color3: var(--colab-primary-surface-color, white);\n",
       "                }\n",
       "            </style>\n",
       "            "
      ],
      "text/plain": [
       "<IPython.core.display.HTML object>"
      ]
     },
     "metadata": {},
     "output_type": "display_data"
    },
    {
     "name": "stdout",
     "output_type": "stream",
     "text": [
      "Generating URL ...\n",
      "Downloading data from https://earthengine.googleapis.com/v1/projects/614189114417/tables/0289489c46145a61789e2ad8ea57d58e-a9001beb1a6547f39f63aa614a49a02f:getFeatures\n",
      "Please wait ...\n",
      "Data downloaded to C:\\Users\\tangb\\Desktop\\Two_traps\\geo\\GEE\\precipitation_normal.csv\n",
      "Generating URL ...\n",
      "Downloading data from https://earthengine.googleapis.com/v1/projects/614189114417/tables/7332b048dec75a8f2c12ba9b38fe13c3-31ae20efc5a7e911b25195d19d7915a2:getFeatures\n",
      "Please wait ...\n",
      "Data downloaded to C:\\Users\\tangb\\Desktop\\Two_traps\\geo\\GEE\\temp_mean_normal.csv\n",
      "Generating URL ...\n",
      "Downloading data from https://earthengine.googleapis.com/v1/projects/614189114417/tables/2425bd8898bdb51afb0c6e6ceb5cdd38-f7c64539966d9c3e41dbe11e5f33e107:getFeatures\n",
      "Please wait ...\n",
      "Data downloaded to C:\\Users\\tangb\\Desktop\\Two_traps\\geo\\GEE\\temp_min_normal.csv\n",
      "Generating URL ...\n",
      "Downloading data from https://earthengine.googleapis.com/v1/projects/614189114417/tables/15a8bdebeb0b4d050213447f9842b632-d62ba81b2332f9c02cabc08cd27ba167:getFeatures\n",
      "Please wait ...\n",
      "Data downloaded to C:\\Users\\tangb\\Desktop\\Two_traps\\geo\\GEE\\temp_max_normal.csv\n",
      "Generating URL ...\n",
      "Downloading data from https://earthengine.googleapis.com/v1/projects/614189114417/tables/ae649b95af9f74cca609f18ba0c696c1-4b6e4802020b438277095165cbc14445:getFeatures\n",
      "Please wait ...\n",
      "Data downloaded to C:\\Users\\tangb\\Desktop\\Two_traps\\geo\\GEE\\pressure_normal.csv\n",
      "Generating URL ...\n",
      "Downloading data from https://earthengine.googleapis.com/v1/projects/614189114417/tables/d3e8d4aebf64160ec7979e2ea466b28e-93569c7a498def07f32ab286c0fb844f:getFeatures\n",
      "Please wait ...\n",
      "Data downloaded to C:\\Users\\tangb\\Desktop\\Two_traps\\geo\\GEE\\windspeed_normal.csv\n",
      "Generating URL ...\n",
      "Downloading data from https://earthengine.googleapis.com/v1/projects/614189114417/tables/6014d6b5b17f893d72f86e7c42fa65d1-d05a0825b5b34bced3e8e8f5e8f03ed1:getFeatures\n",
      "Please wait ...\n",
      "Data downloaded to C:\\Users\\tangb\\Desktop\\Two_traps\\geo\\GEE\\radiation_normal.csv\n",
      "Generating URL ...\n",
      "Downloading data from https://earthengine.googleapis.com/v1/projects/614189114417/tables/b487aa485757d3cf10efd46c438e4444-60c02526843233b12bc36aa15dc45b78:getFeatures\n",
      "Please wait ...\n",
      "Data downloaded to C:\\Users\\tangb\\Desktop\\Two_traps\\geo\\GEE\\drought_normal.csv\n"
     ]
    }
   ],
   "source": [
    "# Additional long term data for calculating 30-year-normal and anomaly \n",
    "prismclim_normal = ee.ImageCollection('OREGONSTATE/PRISM/AN81m').filter(\n",
    "    ee.Filter.date('1960-01-01', '2024-12-31')\n",
    ")\n",
    "\n",
    "terraclim_normal = ee.ImageCollection('IDAHO_EPSCOR/TERRACLIMATE').filter(\n",
    "    ee.Filter.date('1960-01-01', '2024-12-31')\n",
    ")\n",
    "\n",
    "precipitation_normal = prismclim_normal.select('ppt').toBands()\n",
    "temp_mean_normal = prismclim_normal.select('tmean').toBands()\n",
    "temp_min_normal = prismclim_normal.select('tmin').toBands()\n",
    "temp_max_normal = prismclim_normal.select('tmax').toBands()\n",
    "pressure_normal = terraclim_normal.select('vap').toBands()\n",
    "windspeed_normal = terraclim_normal.select('vs').toBands()\n",
    "radiation_normal = terraclim_normal.select('srad').toBands()\n",
    "drought_normal = terraclim_normal.select('pdsi').toBands()\n",
    "\n",
    "out_csv = os.path.join(work_dir, \"precipitation_normal.csv\")\n",
    "geemap.extract_values_to_points(in_fc, precipitation_normal, out_csv)\n",
    "out_csv = os.path.join(work_dir, \"temp_mean_normal.csv\")\n",
    "geemap.extract_values_to_points(in_fc, temp_mean_normal, out_csv)\n",
    "out_csv = os.path.join(work_dir, \"temp_min_normal.csv\")\n",
    "geemap.extract_values_to_points(in_fc, temp_min_normal, out_csv)\n",
    "out_csv = os.path.join(work_dir, \"temp_max_normal.csv\")\n",
    "geemap.extract_values_to_points(in_fc, temp_max_normal, out_csv)\n",
    "out_csv = os.path.join(work_dir, \"pressure_normal.csv\")\n",
    "geemap.extract_values_to_points(in_fc, pressure_normal, out_csv)\n",
    "out_csv = os.path.join(work_dir, \"windspeed_normal.csv\")\n",
    "geemap.extract_values_to_points(in_fc, windspeed_normal, out_csv)\n",
    "out_csv = os.path.join(work_dir, \"radiation_normal.csv\")\n",
    "geemap.extract_values_to_points(in_fc, radiation_normal, out_csv)\n",
    "out_csv = os.path.join(work_dir, \"drought_normal.csv\")\n",
    "geemap.extract_values_to_points(in_fc, drought_normal, out_csv)\n",
    "\n",
    "# Climate data ends here"
   ]
  },
  {
   "cell_type": "code",
   "execution_count": 6,
   "id": "52c8f155-4164-4dc1-b5d5-ce1581aaa57a",
   "metadata": {},
   "outputs": [
    {
     "data": {
      "text/html": [
       "\n",
       "            <style>\n",
       "                .geemap-dark {\n",
       "                    --jp-widgets-color: white;\n",
       "                    --jp-widgets-label-color: white;\n",
       "                    --jp-ui-font-color1: white;\n",
       "                    --jp-layout-color2: #454545;\n",
       "                    background-color: #383838;\n",
       "                }\n",
       "\n",
       "                .geemap-dark .jupyter-button {\n",
       "                    --jp-layout-color3: #383838;\n",
       "                }\n",
       "\n",
       "                .geemap-colab {\n",
       "                    background-color: var(--colab-primary-surface-color, white);\n",
       "                }\n",
       "\n",
       "                .geemap-colab .jupyter-button {\n",
       "                    --jp-layout-color3: var(--colab-primary-surface-color, white);\n",
       "                }\n",
       "            </style>\n",
       "            "
      ],
      "text/plain": [
       "<IPython.core.display.HTML object>"
      ]
     },
     "metadata": {},
     "output_type": "display_data"
    },
    {
     "name": "stdout",
     "output_type": "stream",
     "text": [
      "Generating URL ...\n",
      "Downloading data from https://earthengine.googleapis.com/v1/projects/614189114417/tables/929c3f7bde53c2fc32770995a8564ca5-96437475277cf58cdb04b307947fa1ae:getFeatures\n",
      "Please wait ...\n",
      "Data downloaded to C:\\Users\\tangb\\Desktop\\Two_traps\\geo\\GEE\\EVI.csv\n"
     ]
    }
   ],
   "source": [
    "# Habitat data starts here\n",
    "EVI = ee.ImageCollection('MODIS/061/MOD13Q1').select('EVI').filterDate('1997-01-01', '2024-12-31')\n",
    "\n",
    "EVIi = EVI.toBands()\n",
    "\n",
    "out_csv = os.path.join(work_dir, \"EVI.csv\")\n",
    "geemap.extract_values_to_points(in_fc, EVIi, out_csv)\n",
    "# Habitat data ends here"
   ]
  },
  {
   "cell_type": "code",
   "execution_count": null,
   "id": "6e13bdbb-9787-4029-a3bd-4c99e722cfc1",
   "metadata": {},
   "outputs": [],
   "source": []
  }
 ],
 "metadata": {
  "kernelspec": {
   "display_name": "Python 3 (ipykernel)",
   "language": "python",
   "name": "python3"
  },
  "language_info": {
   "codemirror_mode": {
    "name": "ipython",
    "version": 3
   },
   "file_extension": ".py",
   "mimetype": "text/x-python",
   "name": "python",
   "nbconvert_exporter": "python",
   "pygments_lexer": "ipython3",
   "version": "3.11.5"
  }
 },
 "nbformat": 4,
 "nbformat_minor": 5
}
