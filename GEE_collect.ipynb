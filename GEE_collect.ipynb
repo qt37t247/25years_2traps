{
 "cells": [
  {
   "cell_type": "code",
   "execution_count": 1,
   "id": "4100b414-b17b-4a05-8102-3b7623f2da60",
   "metadata": {},
   "outputs": [],
   "source": [
    "import ee\n",
    "import geemap\n",
    "geemap.ee_initialize()"
   ]
  },
  {
   "cell_type": "code",
   "execution_count": 2,
   "id": "6ce5938e-013f-4b91-8957-d3499e9906d7",
   "metadata": {},
   "outputs": [
    {
     "data": {
      "text/html": [
       "\n",
       "            <style>\n",
       "                .geemap-dark {\n",
       "                    --jp-widgets-color: white;\n",
       "                    --jp-widgets-label-color: white;\n",
       "                    --jp-ui-font-color1: white;\n",
       "                    --jp-layout-color2: #454545;\n",
       "                    background-color: #383838;\n",
       "                }\n",
       "\n",
       "                .geemap-dark .jupyter-button {\n",
       "                    --jp-layout-color3: #383838;\n",
       "                }\n",
       "\n",
       "                .geemap-colab {\n",
       "                    background-color: var(--colab-primary-surface-color, white);\n",
       "                }\n",
       "\n",
       "                .geemap-colab .jupyter-button {\n",
       "                    --jp-layout-color3: var(--colab-primary-surface-color, white);\n",
       "                }\n",
       "            </style>\n",
       "            "
      ],
      "text/plain": [
       "<IPython.core.display.HTML object>"
      ]
     },
     "metadata": {},
     "output_type": "display_data"
    }
   ],
   "source": [
    "import csv\n",
    "import numpy as np\n",
    "import pandas as pd\n",
    "import os"
   ]
  },
  {
   "cell_type": "code",
   "execution_count": 3,
   "id": "49247ba4-f0d2-4d43-8254-5ef4660864d5",
   "metadata": {},
   "outputs": [
    {
     "data": {
      "text/html": [
       "\n",
       "            <style>\n",
       "                .geemap-dark {\n",
       "                    --jp-widgets-color: white;\n",
       "                    --jp-widgets-label-color: white;\n",
       "                    --jp-ui-font-color1: white;\n",
       "                    --jp-layout-color2: #454545;\n",
       "                    background-color: #383838;\n",
       "                }\n",
       "\n",
       "                .geemap-dark .jupyter-button {\n",
       "                    --jp-layout-color3: #383838;\n",
       "                }\n",
       "\n",
       "                .geemap-colab {\n",
       "                    background-color: var(--colab-primary-surface-color, white);\n",
       "                }\n",
       "\n",
       "                .geemap-colab .jupyter-button {\n",
       "                    --jp-layout-color3: var(--colab-primary-surface-color, white);\n",
       "                }\n",
       "            </style>\n",
       "            "
      ],
      "text/plain": [
       "<IPython.core.display.HTML object>"
      ]
     },
     "metadata": {},
     "output_type": "display_data"
    }
   ],
   "source": [
    "work_dir = os.path.expanduser(\"D:\\\\QT\\\\Two_traps\\\\geo\\\\GEE\")\n",
    "in_shp = os.path.join(work_dir, \"sites.shp\")\n",
    "in_fc = geemap.shp_to_ee(\"sites.shp\")"
   ]
  },
  {
   "cell_type": "code",
   "execution_count": 4,
   "id": "66aeb685-e349-4865-80bd-875bf1acd6b2",
   "metadata": {},
   "outputs": [
    {
     "data": {
      "text/html": [
       "\n",
       "            <style>\n",
       "                .geemap-dark {\n",
       "                    --jp-widgets-color: white;\n",
       "                    --jp-widgets-label-color: white;\n",
       "                    --jp-ui-font-color1: white;\n",
       "                    --jp-layout-color2: #454545;\n",
       "                    background-color: #383838;\n",
       "                }\n",
       "\n",
       "                .geemap-dark .jupyter-button {\n",
       "                    --jp-layout-color3: #383838;\n",
       "                }\n",
       "\n",
       "                .geemap-colab {\n",
       "                    background-color: var(--colab-primary-surface-color, white);\n",
       "                }\n",
       "\n",
       "                .geemap-colab .jupyter-button {\n",
       "                    --jp-layout-color3: var(--colab-primary-surface-color, white);\n",
       "                }\n",
       "            </style>\n",
       "            "
      ],
      "text/plain": [
       "<IPython.core.display.HTML object>"
      ]
     },
     "metadata": {},
     "output_type": "display_data"
    },
    {
     "name": "stdout",
     "output_type": "stream",
     "text": [
      "Generating URL ...\n",
      "Downloading data from https://earthengine.googleapis.com/v1/projects/earthengine-legacy/tables/c4c822a365b86de27882baed2e7dd043-a220ba5f7fa62d7bdbcf3ae69ef46b58:getFeatures\n",
      "Please wait ...\n",
      "Data downloaded to D:\\QT\\Two_traps\\geo\\GEE\\VIIRS.csv\n",
      "Generating URL ...\n",
      "Downloading data from https://earthengine.googleapis.com/v1/projects/earthengine-legacy/tables/70e04d76ee1883038a23bcdab31970b6-8a31ed804c51fa69bb2970c9c5124cff:getFeatures\n",
      "Please wait ...\n",
      "Data downloaded to D:\\QT\\Two_traps\\geo\\GEE\\DMSP.csv\n"
     ]
    }
   ],
   "source": [
    "VIIRS = ee.ImageCollection('NOAA/VIIRS/DNB/MONTHLY_V1/VCMSLCFG').select('avg_rad').filterDate('1997-01-01', '2022-12-31')\n",
    "VIIRSi = VIIRS.toBands()\n",
    "out_csv = os.path.join(work_dir, \"VIIRS.csv\")\n",
    "geemap.extract_values_to_points(in_fc, VIIRSi, out_csv)\n",
    "\n",
    "DMSP = ee.ImageCollection('BNU/FGS/CCNL/v1').select('b1').filterDate('1997-01-01', '2022-12-31')\n",
    "DMSPi = DMSP.toBands()\n",
    "out_csv = os.path.join(work_dir, \"DMSP.csv\")\n",
    "geemap.extract_values_to_points(in_fc, DMSPi, out_csv)"
   ]
  },
  {
   "cell_type": "code",
   "execution_count": 20,
   "id": "ad33fc68-4664-47a9-8ade-a069ebb9bc3c",
   "metadata": {},
   "outputs": [
    {
     "data": {
      "text/html": [
       "\n",
       "            <style>\n",
       "                .geemap-dark {\n",
       "                    --jp-widgets-color: white;\n",
       "                    --jp-widgets-label-color: white;\n",
       "                    --jp-ui-font-color1: white;\n",
       "                    --jp-layout-color2: #454545;\n",
       "                    background-color: #383838;\n",
       "                }\n",
       "\n",
       "                .geemap-dark .jupyter-button {\n",
       "                    --jp-layout-color3: #383838;\n",
       "                }\n",
       "\n",
       "                .geemap-colab {\n",
       "                    background-color: var(--colab-primary-surface-color, white);\n",
       "                }\n",
       "\n",
       "                .geemap-colab .jupyter-button {\n",
       "                    --jp-layout-color3: var(--colab-primary-surface-color, white);\n",
       "                }\n",
       "            </style>\n",
       "            "
      ],
      "text/plain": [
       "<IPython.core.display.HTML object>"
      ]
     },
     "metadata": {},
     "output_type": "display_data"
    },
    {
     "name": "stdout",
     "output_type": "stream",
     "text": [
      "Generating URL ...\n",
      "Downloading data from https://earthengine.googleapis.com/v1/projects/earthengine-legacy/tables/10512e3687bf4c8eb9bab8abbe9f57f8-3f047a17df3dd67d72fbfc035c487dcf:getFeatures\n",
      "Please wait ...\n",
      "Data downloaded to D:\\QT\\Two_traps\\geo\\GEE\\precipitation.csv\n",
      "Generating URL ...\n",
      "Downloading data from https://earthengine.googleapis.com/v1/projects/earthengine-legacy/tables/14e8ec3312d6a56db556ae57c5f07104-f95920f6d8fd8713ed9bf6d4425478fb:getFeatures\n",
      "Please wait ...\n",
      "Data downloaded to D:\\QT\\Two_traps\\geo\\GEE\\temp_mean.csv\n",
      "Generating URL ...\n",
      "Downloading data from https://earthengine.googleapis.com/v1/projects/earthengine-legacy/tables/c6d3b08f4d27f51a4ff14b5a2176cb75-5a02316164b652e58885ca486b9e2d27:getFeatures\n",
      "Please wait ...\n",
      "Data downloaded to D:\\QT\\Two_traps\\geo\\GEE\\temp_min.csv\n",
      "Generating URL ...\n",
      "Downloading data from https://earthengine.googleapis.com/v1/projects/earthengine-legacy/tables/5c9561d60dfed8b393e9494cac8cafe4-13316ed65e3899d5c7defd6e8ee2921d:getFeatures\n",
      "Please wait ...\n",
      "Data downloaded to D:\\QT\\Two_traps\\geo\\GEE\\temp_max.csv\n",
      "Generating URL ...\n",
      "Downloading data from https://earthengine.googleapis.com/v1/projects/earthengine-legacy/tables/74360b55b0a7291d0e24daf5289e4c2f-b06a54e63db62246ad6ad2c15adfb328:getFeatures\n",
      "Please wait ...\n",
      "Data downloaded to D:\\QT\\Two_traps\\geo\\GEE\\pressure.csv\n",
      "Generating URL ...\n",
      "Downloading data from https://earthengine.googleapis.com/v1/projects/earthengine-legacy/tables/64fcb0761d90b078607c6ecee77ea4bf-ff2c93b201cb7b152737ac4fc1b73c2d:getFeatures\n",
      "Please wait ...\n",
      "Data downloaded to D:\\QT\\Two_traps\\geo\\GEE\\windspeed.csv\n",
      "Generating URL ...\n",
      "Downloading data from https://earthengine.googleapis.com/v1/projects/earthengine-legacy/tables/ccd9bd0e691af155b0822426c4c5afdc-b8c22275b55cbb7cda0c9fe86db9a7db:getFeatures\n",
      "Please wait ...\n",
      "Data downloaded to D:\\QT\\Two_traps\\geo\\GEE\\radiation.csv\n",
      "Generating URL ...\n",
      "Downloading data from https://earthengine.googleapis.com/v1/projects/earthengine-legacy/tables/65889d8675c3ad4e35e9caa5c022727b-6b9907d072cb5f9efbc924110f7c53ad:getFeatures\n",
      "Please wait ...\n",
      "Data downloaded to D:\\QT\\Two_traps\\geo\\GEE\\drought.csv\n"
     ]
    }
   ],
   "source": [
    "# Climate data starts here\n",
    "prismclim = ee.ImageCollection('OREGONSTATE/PRISM/AN81m').filter(\n",
    "    ee.Filter.date('1997-01-01', '2022-12-31')\n",
    ")\n",
    "\n",
    "terraclim = ee.ImageCollection('IDAHO_EPSCOR/TERRACLIMATE').filter(\n",
    "    ee.Filter.date('1997-01-01', '2022-12-31')\n",
    ")\n",
    "\n",
    "precipitation = prismclim.select('ppt').toBands()\n",
    "temp_mean = prismclim.select('tmean').toBands()\n",
    "temp_min = prismclim.select('tmin').toBands()\n",
    "temp_max = prismclim.select('tmax').toBands()\n",
    "pressure = terraclim.select('vap').toBands()\n",
    "windspeed = terraclim.select('vs').toBands()\n",
    "radiation = terraclim.select('srad').toBands()\n",
    "drought = terraclim.select('pdsi').toBands()\n",
    "\n",
    "out_csv = os.path.join(work_dir, \"precipitation.csv\")\n",
    "geemap.extract_values_to_points(in_fc, precipitation, out_csv)\n",
    "out_csv = os.path.join(work_dir, \"temp_mean.csv\")\n",
    "geemap.extract_values_to_points(in_fc, temp_mean, out_csv)\n",
    "out_csv = os.path.join(work_dir, \"temp_min.csv\")\n",
    "geemap.extract_values_to_points(in_fc, temp_min, out_csv)\n",
    "out_csv = os.path.join(work_dir, \"temp_max.csv\")\n",
    "geemap.extract_values_to_points(in_fc, temp_max, out_csv)\n",
    "out_csv = os.path.join(work_dir, \"pressure.csv\")\n",
    "geemap.extract_values_to_points(in_fc, pressure, out_csv)\n",
    "out_csv = os.path.join(work_dir, \"windspeed.csv\")\n",
    "geemap.extract_values_to_points(in_fc, windspeed, out_csv)\n",
    "out_csv = os.path.join(work_dir, \"radiation.csv\")\n",
    "geemap.extract_values_to_points(in_fc, radiation, out_csv)\n",
    "out_csv = os.path.join(work_dir, \"drought.csv\")\n",
    "geemap.extract_values_to_points(in_fc, drought, out_csv)\n"
   ]
  },
  {
   "cell_type": "code",
   "execution_count": 5,
   "id": "d32c096f-566e-474b-9fb6-0e3273f67b31",
   "metadata": {},
   "outputs": [
    {
     "data": {
      "text/html": [
       "\n",
       "            <style>\n",
       "                .geemap-dark {\n",
       "                    --jp-widgets-color: white;\n",
       "                    --jp-widgets-label-color: white;\n",
       "                    --jp-ui-font-color1: white;\n",
       "                    --jp-layout-color2: #454545;\n",
       "                    background-color: #383838;\n",
       "                }\n",
       "\n",
       "                .geemap-dark .jupyter-button {\n",
       "                    --jp-layout-color3: #383838;\n",
       "                }\n",
       "\n",
       "                .geemap-colab {\n",
       "                    background-color: var(--colab-primary-surface-color, white);\n",
       "                }\n",
       "\n",
       "                .geemap-colab .jupyter-button {\n",
       "                    --jp-layout-color3: var(--colab-primary-surface-color, white);\n",
       "                }\n",
       "            </style>\n",
       "            "
      ],
      "text/plain": [
       "<IPython.core.display.HTML object>"
      ]
     },
     "metadata": {},
     "output_type": "display_data"
    },
    {
     "name": "stdout",
     "output_type": "stream",
     "text": [
      "Generating URL ...\n",
      "Downloading data from https://earthengine.googleapis.com/v1/projects/earthengine-legacy/tables/8cc60ad98ea5a9836083b8c028ddffa2-c7e6fe1c4f9b878947323d56bd9b5e95:getFeatures\n",
      "Please wait ...\n",
      "Data downloaded to D:\\QT\\Two_traps\\geo\\GEE\\precipitation_normal.csv\n",
      "Generating URL ...\n",
      "Downloading data from https://earthengine.googleapis.com/v1/projects/earthengine-legacy/tables/4c161b0d845ab00441c57ccb3ea41173-b3e67c29e8dff656426657a1ad7077dc:getFeatures\n",
      "Please wait ...\n",
      "Data downloaded to D:\\QT\\Two_traps\\geo\\GEE\\temp_mean_normal.csv\n",
      "Generating URL ...\n",
      "Downloading data from https://earthengine.googleapis.com/v1/projects/earthengine-legacy/tables/a5c6e7a258656769c00327031b56113e-fa4ea559d0a5c867e41a0f223df89c69:getFeatures\n",
      "Please wait ...\n",
      "Data downloaded to D:\\QT\\Two_traps\\geo\\GEE\\temp_min_normal.csv\n",
      "Generating URL ...\n",
      "Downloading data from https://earthengine.googleapis.com/v1/projects/earthengine-legacy/tables/68d831277393d3d552feb47b4e2ea381-e72cacd44b62e6a5014336c00654cebb:getFeatures\n",
      "Please wait ...\n",
      "Data downloaded to D:\\QT\\Two_traps\\geo\\GEE\\temp_max_normal.csv\n",
      "Generating URL ...\n",
      "Downloading data from https://earthengine.googleapis.com/v1/projects/earthengine-legacy/tables/1b5f0c33f22e816855aadb6c11083770-781b15375c229643bf7b84eade76bf6e:getFeatures\n",
      "Please wait ...\n",
      "Data downloaded to D:\\QT\\Two_traps\\geo\\GEE\\pressure_normal.csv\n",
      "Generating URL ...\n",
      "Downloading data from https://earthengine.googleapis.com/v1/projects/earthengine-legacy/tables/64691985caf79439616a6efea3cd1c69-10966ff38a99a4354beb97321264e50d:getFeatures\n",
      "Please wait ...\n",
      "Data downloaded to D:\\QT\\Two_traps\\geo\\GEE\\windspeed_normal.csv\n",
      "Generating URL ...\n",
      "Downloading data from https://earthengine.googleapis.com/v1/projects/earthengine-legacy/tables/ec5924f74c96dfb043b0fd7df4da08f2-68fc50da5547e51afafa9af4fe3b0c80:getFeatures\n",
      "Please wait ...\n",
      "Data downloaded to D:\\QT\\Two_traps\\geo\\GEE\\radiation_normal.csv\n",
      "Generating URL ...\n",
      "Downloading data from https://earthengine.googleapis.com/v1/projects/earthengine-legacy/tables/203ef459247306d2c0c146097e657273-98c829306b84eecbfbd1c185386458e2:getFeatures\n",
      "Please wait ...\n",
      "Data downloaded to D:\\QT\\Two_traps\\geo\\GEE\\drought_normal.csv\n"
     ]
    }
   ],
   "source": [
    "# Additional long term data for calculating 30-year-normal and anomaly \n",
    "prismclim_normal = ee.ImageCollection('OREGONSTATE/PRISM/AN81m').filter(\n",
    "    ee.Filter.date('1960-01-01', '2020-12-31')\n",
    ")\n",
    "\n",
    "terraclim_normal = ee.ImageCollection('IDAHO_EPSCOR/TERRACLIMATE').filter(\n",
    "    ee.Filter.date('1960-01-01', '2020-12-31')\n",
    ")\n",
    "\n",
    "precipitation_normal = prismclim_normal.select('ppt').toBands()\n",
    "temp_mean_normal = prismclim_normal.select('tmean').toBands()\n",
    "temp_min_normal = prismclim_normal.select('tmin').toBands()\n",
    "temp_max_normal = prismclim_normal.select('tmax').toBands()\n",
    "pressure_normal = terraclim_normal.select('vap').toBands()\n",
    "windspeed_normal = terraclim_normal.select('vs').toBands()\n",
    "radiation_normal = terraclim_normal.select('srad').toBands()\n",
    "drought_normal = terraclim_normal.select('pdsi').toBands()\n",
    "\n",
    "out_csv = os.path.join(work_dir, \"precipitation_normal.csv\")\n",
    "geemap.extract_values_to_points(in_fc, precipitation_normal, out_csv)\n",
    "out_csv = os.path.join(work_dir, \"temp_mean_normal.csv\")\n",
    "geemap.extract_values_to_points(in_fc, temp_mean_normal, out_csv)\n",
    "out_csv = os.path.join(work_dir, \"temp_min_normal.csv\")\n",
    "geemap.extract_values_to_points(in_fc, temp_min_normal, out_csv)\n",
    "out_csv = os.path.join(work_dir, \"temp_max_normal.csv\")\n",
    "geemap.extract_values_to_points(in_fc, temp_max_normal, out_csv)\n",
    "out_csv = os.path.join(work_dir, \"pressure_normal.csv\")\n",
    "geemap.extract_values_to_points(in_fc, pressure_normal, out_csv)\n",
    "out_csv = os.path.join(work_dir, \"windspeed_normal.csv\")\n",
    "geemap.extract_values_to_points(in_fc, windspeed_normal, out_csv)\n",
    "out_csv = os.path.join(work_dir, \"radiation_normal.csv\")\n",
    "geemap.extract_values_to_points(in_fc, radiation_normal, out_csv)\n",
    "out_csv = os.path.join(work_dir, \"drought_normal.csv\")\n",
    "geemap.extract_values_to_points(in_fc, drought_normal, out_csv)\n",
    "\n",
    "# Climate data ends here"
   ]
  },
  {
   "cell_type": "code",
   "execution_count": 21,
   "id": "52c8f155-4164-4dc1-b5d5-ce1581aaa57a",
   "metadata": {},
   "outputs": [
    {
     "data": {
      "text/html": [
       "\n",
       "            <style>\n",
       "                .geemap-dark {\n",
       "                    --jp-widgets-color: white;\n",
       "                    --jp-widgets-label-color: white;\n",
       "                    --jp-ui-font-color1: white;\n",
       "                    --jp-layout-color2: #454545;\n",
       "                    background-color: #383838;\n",
       "                }\n",
       "\n",
       "                .geemap-dark .jupyter-button {\n",
       "                    --jp-layout-color3: #383838;\n",
       "                }\n",
       "\n",
       "                .geemap-colab {\n",
       "                    background-color: var(--colab-primary-surface-color, white);\n",
       "                }\n",
       "\n",
       "                .geemap-colab .jupyter-button {\n",
       "                    --jp-layout-color3: var(--colab-primary-surface-color, white);\n",
       "                }\n",
       "            </style>\n",
       "            "
      ],
      "text/plain": [
       "<IPython.core.display.HTML object>"
      ]
     },
     "metadata": {},
     "output_type": "display_data"
    },
    {
     "name": "stdout",
     "output_type": "stream",
     "text": [
      "Generating URL ...\n",
      "Downloading data from https://earthengine.googleapis.com/v1/projects/earthengine-legacy/tables/66a4bedc12c92214c36f92349e68514c-464ed2692685518ba3a442a359aacb63:getFeatures\n",
      "Please wait ...\n",
      "Data downloaded to D:\\QT\\Two_traps\\geo\\GEE\\EVI.csv\n"
     ]
    }
   ],
   "source": [
    "# Habitat data starts here\n",
    "EVI = ee.ImageCollection('MODIS/061/MOD13Q1').select('EVI').filterDate('1997-01-01', '2022-12-31')\n",
    "\n",
    "EVIi = EVI.toBands()\n",
    "\n",
    "out_csv = os.path.join(work_dir, \"EVI.csv\")\n",
    "geemap.extract_values_to_points(in_fc, EVIi, out_csv)\n",
    "# Habitat data ends here"
   ]
  }
 ],
 "metadata": {
  "kernelspec": {
   "display_name": "Python 3 (ipykernel)",
   "language": "python",
   "name": "python3"
  },
  "language_info": {
   "codemirror_mode": {
    "name": "ipython",
    "version": 3
   },
   "file_extension": ".py",
   "mimetype": "text/x-python",
   "name": "python",
   "nbconvert_exporter": "python",
   "pygments_lexer": "ipython3",
   "version": "3.12.0"
  }
 },
 "nbformat": 4,
 "nbformat_minor": 5
}
